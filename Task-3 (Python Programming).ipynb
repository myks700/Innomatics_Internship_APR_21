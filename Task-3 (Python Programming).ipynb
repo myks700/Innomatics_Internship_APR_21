{
 "cells": [
  {
   "cell_type": "markdown",
   "metadata": {},
   "source": [
    "`Q 1` **Polar Coordinates**\n",
    "\n",
    "* Polar coordinates are an alternative way of representing Cartesian coordinates or Complex Numbers.\n",
    "\n",
    "* A complex number z\n",
    "\n",
    "* Z = x+yj\n",
    "is completely determined by its real part x and imaginary part y.\n",
    "Here, j is the imaginary unit.\n",
    "\n",
    "**Task**\n",
    "* You are given a complex z. Your task is to convert it to polar coordinates."
   ]
  },
  {
   "cell_type": "code",
   "execution_count": 2,
   "metadata": {},
   "outputs": [
    {
     "name": "stdout",
     "output_type": "stream",
     "text": [
      "1+2j\n",
      "2.23606797749979\n",
      "1.1071487177940904\n"
     ]
    }
   ],
   "source": [
    "import cmath\n",
    "z = complex(input())\n",
    "p = cmath.polar(z)\n",
    "print(p[0])\n",
    "print(p[1])"
   ]
  },
  {
   "cell_type": "markdown",
   "metadata": {},
   "source": [
    "`Q2` \n",
    "\n",
    "**Find Angle MBC**\n",
    "\n",
    "https://s3.amazonaws.com/hr-challenge-images/9668/1440151155-10b2b748ee-rsz_1438840048-2cf71ed69d-findangle.png\n",
    "\n",
    "ABC is a right triangle, 90 degree at B.\n",
    "Therefore, angle ABC = 90 degree.\n",
    "\n",
    "Point M is the midpoint of hypotenuse AC.\n",
    "\n",
    "You are given the lengths AB and BC.\n",
    "Your task is to find angle MBC (angle θ, as shown in the figure) in degrees.\n",
    "\n",
    "**Input Format**\n",
    "\n",
    "* The first line contains the length of side AB.\n",
    "* The second line contains the length of side BC.\n"
   ]
  },
  {
   "cell_type": "code",
   "execution_count": 3,
   "metadata": {},
   "outputs": [
    {
     "name": "stdout",
     "output_type": "stream",
     "text": [
      "10\n",
      "10\n",
      "45°\n"
     ]
    }
   ],
   "source": [
    "import math\n",
    "ab = float(input())\n",
    "bc = float(input())\n",
    "ac = math.sqrt((ab*ab)+(bc*bc))\n",
    "bm = ac / 2\n",
    "mc = bm\n",
    "#let, \n",
    "b = mc\n",
    "c = bm\n",
    "a = bc\n",
    "#where b=c\n",
    "angel_b_radian = math.acos(a / (2*b))\n",
    "angel_b_degree = int(round((180 * angel_b_radian) / math.pi))\n",
    "output_str = str(angel_b_degree)+'°'\n",
    "print(output_str)"
   ]
  },
  {
   "cell_type": "markdown",
   "metadata": {},
   "source": [
    "`Q 3`\n",
    "\n",
    "**Triangle Quest 2**\n",
    "* You are given a positive integer N.\n",
    "* Your task is to print a palindromic triangle of size N.\n",
    "\n",
    "* For example, a palindromic triangle of size 5 is:\n",
    "\n",
    "* 1\n",
    "* 121\n",
    "* 12321\n",
    "* 1234321\n",
    "* 123454321\n",
    "\n",
    "* You can't take more than two lines. The first line (a for-statement) is already written for you.\n",
    "You have to complete the code using exactly one print statement.\n"
   ]
  },
  {
   "cell_type": "code",
   "execution_count": 11,
   "metadata": {},
   "outputs": [
    {
     "name": "stdout",
     "output_type": "stream",
     "text": [
      "5\n",
      "1\n",
      "121\n",
      "12321\n",
      "1234321\n",
      "123454321\n"
     ]
    }
   ],
   "source": [
    "for i in range(1,int(input())+1): #More than 2 lines will result in 0 score. Do not leave a blank line also\n",
    "    print((((10**i)-1)//(9))**2)"
   ]
  },
  {
   "cell_type": "markdown",
   "metadata": {},
   "source": [
    "`Q 4` \n",
    "**Mod Divmod**"
   ]
  },
  {
   "cell_type": "code",
   "execution_count": 2,
   "metadata": {},
   "outputs": [
    {
     "name": "stdout",
     "output_type": "stream",
     "text": [
      "177\n",
      "10\n",
      "17\n",
      "7\n",
      "(17, 7)\n"
     ]
    }
   ],
   "source": [
    "a=int(input())\n",
    "b=int(input())\n",
    "div=divmod(a,b)\n",
    "print (div[0])\n",
    "print (div[1])\n",
    "print (div)"
   ]
  },
  {
   "cell_type": "markdown",
   "metadata": {},
   "source": [
    "`Q 5` \n",
    "**Power - Mod Power**\n"
   ]
  },
  {
   "cell_type": "code",
   "execution_count": 4,
   "metadata": {},
   "outputs": [
    {
     "name": "stdout",
     "output_type": "stream",
     "text": [
      "3\n",
      "4\n",
      "5\n",
      "81\n",
      "1\n"
     ]
    }
   ],
   "source": [
    "a=int(input())\n",
    "b=int(input())\n",
    "c=int(input())\n",
    "print (pow(a,b))\n",
    "print (pow(a,b,c))"
   ]
  },
  {
   "cell_type": "markdown",
   "metadata": {},
   "source": [
    "`Q 6` \n",
    "**Integers Come In All Sizes**"
   ]
  },
  {
   "cell_type": "code",
   "execution_count": 6,
   "metadata": {},
   "outputs": [
    {
     "name": "stdout",
     "output_type": "stream",
     "text": [
      "9\n",
      "29\n",
      "7\n",
      "27\n",
      "4710194409608608369201743232\n"
     ]
    }
   ],
   "source": [
    "a = int(input())\n",
    "b = int(input())\n",
    "c = int(input())\n",
    "d = int(input())\n",
    "\n",
    "print(pow(a,b)+pow(c,d))\n"
   ]
  },
  {
   "cell_type": "markdown",
   "metadata": {},
   "source": [
    "`Q 7` \n",
    " **Triangle Quest**"
   ]
  },
  {
   "cell_type": "code",
   "execution_count": 9,
   "metadata": {},
   "outputs": [
    {
     "name": "stdout",
     "output_type": "stream",
     "text": [
      "5\n",
      "1.0\n",
      "22.0\n",
      "333.0\n",
      "4444.0\n"
     ]
    }
   ],
   "source": [
    "for i in range(1,int(input())): #More than 2 lines will result in 0 score. Do not leave a blank line also\n",
    "    print(i*((pow(10,i)-1)/(9)))"
   ]
  },
  {
   "cell_type": "code",
   "execution_count": null,
   "metadata": {},
   "outputs": [],
   "source": []
  },
  {
   "cell_type": "code",
   "execution_count": null,
   "metadata": {},
   "outputs": [],
   "source": []
  }
 ],
 "metadata": {
  "kernelspec": {
   "display_name": "Python 3",
   "language": "python",
   "name": "python3"
  },
  "language_info": {
   "codemirror_mode": {
    "name": "ipython",
    "version": 3
   },
   "file_extension": ".py",
   "mimetype": "text/x-python",
   "name": "python",
   "nbconvert_exporter": "python",
   "pygments_lexer": "ipython3",
   "version": "3.8.5"
  }
 },
 "nbformat": 4,
 "nbformat_minor": 4
}
