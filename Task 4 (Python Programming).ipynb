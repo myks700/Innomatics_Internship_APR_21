{
 "cells": [
  {
   "cell_type": "markdown",
   "metadata": {},
   "source": [
    "`Q 1` \n",
    "**sWAP cASE**\n",
    "\n",
    "* You are given a string and your task is to swap cases. In other words, convert all lowercase letters to uppercase letters and vice versa.\n",
    "\n",
    "**For Example:**\n",
    "\n",
    "* Www.HackerRank.com → wWW.hACKERrANK.COM\n",
    "* Pythonist 2 → pYTHONIST 2  "
   ]
  },
  {
   "cell_type": "code",
   "execution_count": 6,
   "metadata": {},
   "outputs": [
    {
     "name": "stdout",
     "output_type": "stream",
     "text": [
      "HackerRank.com presents \"Pythonist 2\".\n",
      "hACKERrANK.COM PRESENTS \"pYTHONIST 2\".\n"
     ]
    }
   ],
   "source": [
    "def swap_case(sentence):\n",
    "    updated_s = \"\"\n",
    "    for c in sentence:\n",
    "        if c.isupper():\n",
    "            updated_s += c.lower()\n",
    "        elif c.islower():\n",
    "            updated_s += c.upper()\n",
    "        else:\n",
    "            updated_s += c\n",
    "    return updated_s\n",
    "\n",
    "\n",
    "if __name__ == '__main__':\n",
    "    s = input()\n",
    "    result = swap_case(s)\n",
    "    print(result)"
   ]
  },
  {
   "cell_type": "markdown",
   "metadata": {},
   "source": [
    "`Q 2`\n",
    "**String Split and Join**"
   ]
  },
  {
   "cell_type": "code",
   "execution_count": 8,
   "metadata": {},
   "outputs": [
    {
     "name": "stdout",
     "output_type": "stream",
     "text": [
      "this is string\n",
      "this_is_string\n"
     ]
    }
   ],
   "source": [
    "def split_and_join(sentence):\n",
    "    return \"_\".join(sentence.split())\n",
    "\n",
    "if __name__ == '__main__':\n",
    "    line = input()\n",
    "    result = split_and_join(line)\n",
    "    print(result)"
   ]
  },
  {
   "cell_type": "markdown",
   "metadata": {},
   "source": [
    "`Q 3` \n",
    "**What's Your Name?**\n",
    "\n",
    "You are given the firstname and lastname of a person on two different lines. Your task is to read them and print the following:\n",
    "\n",
    "* Hello firstname lastname! You just delved into python."
   ]
  },
  {
   "cell_type": "code",
   "execution_count": 9,
   "metadata": {},
   "outputs": [
    {
     "name": "stdout",
     "output_type": "stream",
     "text": [
      "Ross\n",
      "Taylor\n",
      "Hello Ross Taylor! You just delved into python.\n"
     ]
    }
   ],
   "source": [
    "#\n",
    "# Complete the 'print_full_name' function below.\n",
    "#\n",
    "# The function is expected to return a STRING.\n",
    "# The function accepts following parameters:\n",
    "#  1. STRING first\n",
    "#  2. STRING last\n",
    "#\n",
    "\n",
    "def print_full_name(first, last):\n",
    "    print(\"Hello {} {}! You just delved into python.\".format(first,last))\n",
    "\n",
    "if __name__ == '__main__':\n",
    "    first_name = input()\n",
    "    last_name = input()\n",
    "    print_full_name(first_name, last_name)"
   ]
  },
  {
   "cell_type": "markdown",
   "metadata": {},
   "source": [
    "`Q4`\n",
    "**Mutations**"
   ]
  },
  {
   "cell_type": "code",
   "execution_count": 10,
   "metadata": {},
   "outputs": [
    {
     "name": "stdout",
     "output_type": "stream",
     "text": [
      "abracadabra\n",
      "5 k\n",
      "abrackdabra\n"
     ]
    }
   ],
   "source": [
    "def mutate_string(string, position, character):\n",
    "    char = list(string)\n",
    "    char[position] = character\n",
    "    return \"\".join(char)\n",
    "\n",
    "if __name__ == '__main__':\n",
    "    s = input()\n",
    "    i ,c = input().split()\n",
    "    s_new = mutate_string(s, int(i), c)\n",
    "    print(s_new)"
   ]
  },
  {
   "cell_type": "markdown",
   "metadata": {},
   "source": [
    "`Q 5`\n",
    "\n",
    "**Find a string**"
   ]
  },
  {
   "cell_type": "code",
   "execution_count": 11,
   "metadata": {},
   "outputs": [
    {
     "name": "stdout",
     "output_type": "stream",
     "text": [
      "ABCDCDC\n",
      "CDC\n",
      "2\n"
     ]
    }
   ],
   "source": [
    "def count_substring(string, sub_string):\n",
    "    count_sub_string = 0\n",
    "    for i in range(len(string) - len(sub_string) + 1):\n",
    "        if string[i:i + len(sub_string)] == sub_string:\n",
    "            count_sub_string += 1\n",
    "    return count_sub_string\n",
    "\n",
    "\n",
    "if __name__ == '__main__':\n",
    "    string = input().strip()\n",
    "    sub_string = input().strip()\n",
    "\n",
    "    count = count_substring(string, sub_string)\n",
    "    print(count)"
   ]
  },
  {
   "cell_type": "markdown",
   "metadata": {},
   "source": [
    "`Q 6`\n",
    "\n",
    "**String Validators**"
   ]
  },
  {
   "cell_type": "code",
   "execution_count": 12,
   "metadata": {},
   "outputs": [
    {
     "name": "stdout",
     "output_type": "stream",
     "text": [
      "qA2\n",
      "True\n",
      "True\n",
      "True\n",
      "True\n",
      "True\n"
     ]
    }
   ],
   "source": [
    "if __name__ == '__main__':\n",
    "    s = input()\n",
    "    flag_alnum = False\n",
    "    flag_alpha = False\n",
    "    flag_digit = False\n",
    "    flag_lower = False\n",
    "    flag_upper = False\n",
    "    for i in s:\n",
    "        if i.isalnum():\n",
    "            flag_alnum = True\n",
    "        if i.isalpha():\n",
    "            flag_alpha = True\n",
    "        if i.isdigit():\n",
    "            flag_digit = True\n",
    "        if i.islower():\n",
    "            flag_lower = True\n",
    "        if i.isupper():\n",
    "            flag_upper = True\n",
    "\n",
    "    print(flag_alnum)\n",
    "    print(flag_alpha)\n",
    "    print(flag_digit)\n",
    "    print(flag_lower)\n",
    "    print(flag_upper)\n",
    "    "
   ]
  },
  {
   "cell_type": "markdown",
   "metadata": {},
   "source": [
    "`Q 7`\n",
    "**Text Alignment**"
   ]
  },
  {
   "cell_type": "code",
   "execution_count": 17,
   "metadata": {},
   "outputs": [
    {
     "name": "stdout",
     "output_type": "stream",
     "text": [
      "3\n",
      "  H  \n",
      " HHH \n",
      "HHHHH\n",
      " HHH         HHH        \n",
      " HHH         HHH        \n",
      " HHH         HHH        \n",
      " HHH         HHH        \n",
      " HHHHHHHHHHHHHHH  \n",
      " HHHHHHHHHHHHHHH  \n",
      " HHH         HHH        \n",
      " HHH         HHH        \n",
      " HHH         HHH        \n",
      " HHH         HHH        \n",
      "            HHHHH \n",
      "             HHH  \n",
      "              H   \n"
     ]
    }
   ],
   "source": [
    "#Replace all ______ with rjust, ljust or center. \n",
    "\n",
    "thickness = int(input()) #This must be an odd number\n",
    "c = 'H'\n",
    "\n",
    "#Top Cone\n",
    "for i in range(thickness):\n",
    "    print((c*i).rjust(thickness-1)+c+(c*i).ljust(thickness-1))\n",
    "\n",
    "#Top Pillars\n",
    "for i in range(thickness+1):\n",
    "    print((c*thickness).center(thickness*2)+(c*thickness).center(thickness*6))\n",
    "\n",
    "#Middle Belt\n",
    "for i in range((thickness+1)//2):\n",
    "    print((c*thickness*5).center(thickness*6))    \n",
    "\n",
    "#Bottom Pillars\n",
    "for i in range(thickness+1):\n",
    "    print((c*thickness).center(thickness*2)+(c*thickness).center(thickness*6))    \n",
    "\n",
    "#Bottom Cone\n",
    "for i in range(thickness):\n",
    "    print(((c*(thickness-i-1)).rjust(thickness)+c+(c*(thickness-i-1)).ljust(thickness)).rjust(thickness*6))"
   ]
  },
  {
   "cell_type": "code",
   "execution_count": null,
   "metadata": {},
   "outputs": [],
   "source": []
  }
 ],
 "metadata": {
  "kernelspec": {
   "display_name": "Python 3",
   "language": "python",
   "name": "python3"
  },
  "language_info": {
   "codemirror_mode": {
    "name": "ipython",
    "version": 3
   },
   "file_extension": ".py",
   "mimetype": "text/x-python",
   "name": "python",
   "nbconvert_exporter": "python",
   "pygments_lexer": "ipython3",
   "version": "3.8.5"
  }
 },
 "nbformat": 4,
 "nbformat_minor": 4
}
