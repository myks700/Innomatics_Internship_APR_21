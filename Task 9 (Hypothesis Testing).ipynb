{
 "cells": [
  {
   "cell_type": "markdown",
   "id": "79b9e292",
   "metadata": {},
   "source": [
    "### Steps in Hypothesis Testing"
   ]
  },
  {
   "cell_type": "markdown",
   "id": "7554c8b8",
   "metadata": {},
   "source": [
    "#### Step - 1:\n",
    "<p>Alternate Hypothesis (Bold claim): $ H_1 \\ \\Rightarrow <, >, \\neq $\n",
    "<p>Null Hypothesis (Status Quo): $ H_0 \\ \\Rightarrow \\ \\leq, \\ \\geq, \\ = $"
   ]
  },
  {
   "cell_type": "markdown",
   "id": "8dea2f61",
   "metadata": {},
   "source": [
    "#### Step - 2:\n",
    "\n",
    "* Collect a sample of size n\n",
    "* Compute the mean from this sample $ \\bar{x} $"
   ]
  },
  {
   "cell_type": "markdown",
   "id": "fb11df49",
   "metadata": {},
   "source": [
    "#### Step - 3: Compute Test Statistic:\n",
    "$\\\\[1pt]$\n",
    "* If population variance is known $$ z = \\frac{\\bar{x} - \\mu}{\\sigma/\\sqrt{n}}$$\n",
    "$\\\\[1pt]$\n",
    "* If population variance is unknown $$ t = \\frac{\\bar{x} - \\mu}{s/\\sqrt{n}} $$"
   ]
  },
  {
   "cell_type": "markdown",
   "id": "96e9f10b",
   "metadata": {},
   "source": [
    "#### Step - 4: \n",
    "Decide significance level $ \\alpha $. Lower $ \\alpha $ means you need stronger evidence to reject Null Hypothesis."
   ]
  },
  {
   "cell_type": "markdown",
   "id": "4f49222c",
   "metadata": {},
   "source": [
    "#### Step - 5.1: Apply decision rule:\n",
    "\n",
    "* If test statistic is z-score:\n",
    "  * Two tailed z-test: $$ |z| \\gt; z_\\frac{\\alpha}{2} \\Rightarrow Accept \\ H_1 \\ or \\ Reject \\ H_0 $$\n",
    "  * Right tailed z-test:$$ z \\gt; z_\\alpha \\Rightarrow Accept \\ H_1 \\ or \\ Reject \\ H_0 $$\n",
    "  * Left tailed z-test:$$ z \\lt; -z_\\alpha \\Rightarrow Accept \\ H_1 \\ or \\ Reject \\ H_0 $$\n",
    "  $\\\\[1pt]$\n",
    "* If test statistic is t-score\n",
    "  * Two tailed t-test:$$ |t| \\gt; t_{n-1,\\frac{\\alpha}{2}} \\Rightarrow Accept \\ H_1 \\ or \\ Reject \\ H_0 $$\n",
    "  * Right tailed t-test:$$ t \\gt; t_{n-1,\\alpha} \\Rightarrow Accept \\ H_1 \\ or \\ Reject \\ H_0 $$\n",
    "  * Left tailed t-test:$$ t \\lt; t_{n-1,\\alpha} \\Rightarrow Accept \\ H_1 \\ or \\ Reject \\ H_0 $$\n",
    "  \n",
    " "
   ]
  },
  {
   "cell_type": "markdown",
   "id": "a97d5b8c",
   "metadata": {},
   "source": [
    "#### step - 5.2: Compute p-value $ P(Test \\ Statistics | H_0) $\n",
    "\n",
    "* For two tailed test:$$ p \\ value = 2 * (1.0 - cdf(test \\ statistic)) $$\n",
    "* For one tailed test:$$ p \\ value = (1.0 - cdf(test \\ statistic)) \n",
    "$\\\\[1pt]$\n",
    "$$Now,\n",
    "$$ if (p \\ value \\lt \\alpha) \\Rightarrow Accept \\ H_1 \\ or \\ Reject \\ H_0 $$ "
   ]
  },
  {
   "cell_type": "code",
   "execution_count": 1,
   "id": "6c461c2e",
   "metadata": {},
   "outputs": [],
   "source": [
    "import pandas as pd\n",
    "import matplotlib.pyplot as plt\n",
    "%matplotlib inline\n",
    "import numpy as np\n",
    "from scipy.stats import norm\n",
    "from scipy.stats import t"
   ]
  },
  {
   "cell_type": "markdown",
   "id": "37c5c787",
   "metadata": {},
   "source": [
    "### Questions "
   ]
  },
  {
   "cell_type": "markdown",
   "id": "974a40a2",
   "metadata": {},
   "source": [
    "Q-1: Pista House selling Hyderabadi Chicken Dum biryani claims that each parcel packet has 500 grams of biryani (also mentioned on the label of packet). You are sceptic of their claims and believe that on average each packet does not contain 500 grams of biryani. How do you prove your claim?"
   ]
  },
  {
   "cell_type": "markdown",
   "id": "6e6d29e1",
   "metadata": {},
   "source": [
    "\n",
    "<p>Alternate Hypothesis (Bold claim) H_1:  $$ \\ \\Rightarrow H_1 \\neq 500  $$\n",
    "<p>Null Hypothesis (Status Quo) H_0:  $$ \\ \\Rightarrow H_0 = 500 $$"
   ]
  },
  {
   "cell_type": "code",
   "execution_count": 2,
   "id": "a860fc76",
   "metadata": {},
   "outputs": [],
   "source": [
    "#step 2\n",
    "#Lets take sample size n = 5\n",
    "\n",
    "L = [500,490,450,360,506] \n",
    "n = 5\n",
    "pop_mean = 500"
   ]
  },
  {
   "cell_type": "code",
   "execution_count": 3,
   "id": "8e9a0cb8",
   "metadata": {},
   "outputs": [],
   "source": [
    "#import math\n",
    "\n",
    "#def mean(value):                   # for step 2 creating own function for mean\n",
    "    # μ = 1/N Σ(xi)\n",
    "    #return sum(L) / float(len(L))\n",
    "\n",
    "#def variance(value):              #Own function for variance\n",
    "    #\"\"\"\n",
    "   # Uses standard variance formula (sum of each (data point - mean) squared)\n",
    "   # all divided by number of data points\n",
    "   # \"\"\"\n",
    "    # σ² = 1/n Σ((xi-μ)²)\n",
    "    #mu = mean(L)\n",
    "    #return 1.0/(len(L)-1) * sum([(i-mu)**2 for i in L])\n",
    "\n",
    "#def std(value):                     # own function for standard deviatio\n",
    "    #return variance(L)**.5\n",
    "\n",
    "\n",
    "#def t_score(value):                 #for step 3, Own funtion for t-scoer\n",
    "    #return (mean(L) - 500)/(std(L)/(5**.5))"
   ]
  },
  {
   "cell_type": "code",
   "execution_count": 4,
   "id": "0f061dd1",
   "metadata": {},
   "outputs": [
    {
     "data": {
      "text/plain": [
       "461.2"
      ]
     },
     "execution_count": 4,
     "metadata": {},
     "output_type": "execute_result"
    }
   ],
   "source": [
    "#Compute sample mean\n",
    "sample_mean = np.mean(L)\n",
    "sample_mean"
   ]
  },
  {
   "cell_type": "code",
   "execution_count": 5,
   "id": "0f9ab356",
   "metadata": {},
   "outputs": [
    {
     "data": {
      "text/plain": [
       "54.23799406320259"
      ]
     },
     "execution_count": 5,
     "metadata": {},
     "output_type": "execute_result"
    }
   ],
   "source": [
    "std = np.std(L)\n",
    "std"
   ]
  },
  {
   "cell_type": "code",
   "execution_count": null,
   "id": "98f6a14e",
   "metadata": {},
   "outputs": [],
   "source": []
  },
  {
   "cell_type": "code",
   "execution_count": 6,
   "id": "6bd36af6",
   "metadata": {},
   "outputs": [],
   "source": [
    "#standard = np.sqrt(500+461.2)/2\n",
    "#standard"
   ]
  },
  {
   "cell_type": "code",
   "execution_count": 7,
   "id": "15fdd723",
   "metadata": {},
   "outputs": [
    {
     "data": {
      "text/plain": [
       "-1.5996063096635285"
      ]
     },
     "execution_count": 7,
     "metadata": {},
     "output_type": "execute_result"
    }
   ],
   "source": [
    "# compute t score\n",
    "t_score = (sample_mean - pop_mean)/(std/(n**.5))\n",
    "t_score"
   ]
  },
  {
   "cell_type": "code",
   "execution_count": 8,
   "id": "772f765e",
   "metadata": {},
   "outputs": [
    {
     "name": "stdout",
     "output_type": "stream",
     "text": [
      "2.7764451051977987\n"
     ]
    }
   ],
   "source": [
    "# t_critical for Two tail\n",
    "\n",
    "alpha = 1 - 0.95\n",
    "\n",
    "t_critical = t.ppf(1-alpha/2, df = 4)\n",
    "\n",
    "print(t_critical)"
   ]
  },
  {
   "cell_type": "code",
   "execution_count": 9,
   "id": "709f7a42",
   "metadata": {},
   "outputs": [
    {
     "data": {
      "text/plain": [
       "Text(461.2, 0.0007, 'x_bar')"
      ]
     },
     "execution_count": 9,
     "metadata": {},
     "output_type": "execute_result"
    },
    {
     "data": {
      "image/png": "[encoded data removed]",
      "text/plain": [
       "<Figure size 432x288 with 1 Axes>"
      ]
     },
     "metadata": {
      "needs_background": "light"
     },
     "output_type": "display_data"
    }
   ],
   "source": [
    "\n",
    "# Ploting the sampling distribution with rejection regions\n",
    "\n",
    "# Defining the x minimum and x maximum\n",
    "x_min = 400\n",
    "x_max = 600\n",
    "\n",
    "\n",
    "# Defining the sampling distribution mean and sampling distribution std\n",
    "mean = pop_mean\n",
    "std = std / n**0.5\n",
    "\n",
    "\n",
    "# Ploting the graph and setting the x limits\n",
    "x = np.linspace(x_min, x_max, 100)\n",
    "y = norm.pdf(x, mean, std)\n",
    "plt.xlim(x_min, x_max)\n",
    "plt.plot(x, y)\n",
    "\n",
    "\n",
    "# Computing the left and right critical values (Two tailed Test)\n",
    "t_critical_left = pop_mean + (-t_critical * std)\n",
    "t_critical_right = pop_mean + (t_critical * std)\n",
    "\n",
    "\n",
    "# Shading the left rejection region\n",
    "x1 = np.linspace(x_min, t_critical_left, 100)\n",
    "y1 = norm.pdf(x1, mean, std)\n",
    "plt.fill_between(x1, y1, color='orange')\n",
    "\n",
    "\n",
    "# Shading the right rejection region\n",
    "x2 = np.linspace(t_critical_right, x_max, 100)\n",
    "y2 = norm.pdf(x2, mean, std)\n",
    "plt.fill_between(x2, y2, color='orange')\n",
    "\n",
    "\n",
    "# Ploting the sample mean and concluding the results \n",
    "plt.scatter(sample_mean, 0)\n",
    "plt.annotate(\"x_bar\", (sample_mean, 0.0007))\n",
    "\n",
    "\n",
    "# In this case sample mean falls in the rejection region\n",
    "# i.e. here we reject the Null Hypothesis"
   ]
  },
  {
   "cell_type": "code",
   "execution_count": 10,
   "id": "9096de61",
   "metadata": {},
   "outputs": [
    {
     "name": "stdout",
     "output_type": "stream",
     "text": [
      "Fail to reject Null Hypothesis\n"
     ]
    }
   ],
   "source": [
    "# Conclusion using t test\n",
    "\n",
    "if(np.abs(t_score) > t_critical):\n",
    "    print(\"Reject Null Hypothesis\")\n",
    "else:\n",
    "    print(\"Fail to reject Null Hypothesis\")"
   ]
  },
  {
   "cell_type": "code",
   "execution_count": 11,
   "id": "b38882de",
   "metadata": {},
   "outputs": [
    {
     "name": "stdout",
     "output_type": "stream",
     "text": [
      "p_value =  0.10968594783105035\n",
      "Fail to reject Null Hypothesis\n"
     ]
    }
   ],
   "source": [
    "# Conclusion using p test\n",
    "\n",
    "p_value = 2 * (1.0 - norm.cdf(np.abs(t_score)))\n",
    "\n",
    "print(\"p_value = \", p_value)\n",
    "\n",
    "if(p_value < alpha):\n",
    "    print(\"Reject Null Hypothesis\")\n",
    "else:\n",
    "    print(\"Fail to reject Null Hypothesis\")"
   ]
  },
  {
   "cell_type": "code",
   "execution_count": 12,
   "id": "1fa5144f",
   "metadata": {},
   "outputs": [],
   "source": [
    "# for small samples (<50) we use t-statistics\n",
    "# n = 5, degree of freedom = 5-1 = 4\n",
    "# for 95% confidence interval, alpha = 5% = 0.05 and 0.05/2 = 0.025\n",
    "#from scipy import stats\n",
    "\n",
    "#ci = 95\n",
    "#n = 4\n",
    "#t = stats.t.ppf(1- ((100-ci)/2/100), n-1) # 95% CI, t4,0.025\n",
    "#print(t)"
   ]
  },
  {
   "cell_type": "code",
   "execution_count": 13,
   "id": "410aaa95",
   "metadata": {},
   "outputs": [],
   "source": [
    "# Two tail (as H not equal to 500)\n",
    "#confidence_level = 0.95\n",
    "#alpha = 1 - 0.95\n",
    "\n",
    "#t_critical = t.ppf(1-alpha/2, df = 4)\n",
    "\n",
    "#print(t_critical)"
   ]
  },
  {
   "cell_type": "markdown",
   "id": "4a154368",
   "metadata": {},
   "source": [
    "Q-2: You have developed a new Natural Language Processing Algorithms and done a user study. You claim that the average rating given by the users is greater than 4 on a scale of 1 to 5. How do you prove this to your client? "
   ]
  },
  {
   "cell_type": "markdown",
   "id": "466ee9bf",
   "metadata": {},
   "source": [
    "\n",
    "Alternate Hypothesis (Bold Claim):$$ H_1>4 $$  \n",
    "Null Hypothesis (Status Quo):$$ H_0 \\leq 4 $$\n",
    "\n",
    "\n",
    "\n"
   ]
  },
  {
   "cell_type": "code",
   "execution_count": 14,
   "id": "03735c8d",
   "metadata": {},
   "outputs": [],
   "source": [
    "L1 = [4,3,5,4,5,3,5,5,4,3,5,5,5,3,5,5,4,4,4,2,4,5,5,4,4,5,4,5,4,5]\n",
    "#L1 = [4, 3, 5, 4, 5, 3, 5, 5, 4, 2, 4, 5, 5, 4, 4, 5, 4, 5, 4, 5] \n",
    "n = 20\n",
    "pop_mean = 4"
   ]
  },
  {
   "cell_type": "code",
   "execution_count": 15,
   "id": "1f967a94",
   "metadata": {},
   "outputs": [
    {
     "data": {
      "text/plain": [
       "4.266666666666667"
      ]
     },
     "execution_count": 15,
     "metadata": {},
     "output_type": "execute_result"
    }
   ],
   "source": [
    "#Compute sample mean\n",
    "sample_mean = np.mean(L1)\n",
    "sample_mean"
   ]
  },
  {
   "cell_type": "code",
   "execution_count": 16,
   "id": "d29980fb",
   "metadata": {},
   "outputs": [],
   "source": [
    "# compute t score\n",
    "#t_score(L1)"
   ]
  },
  {
   "cell_type": "code",
   "execution_count": 17,
   "id": "59dffec3",
   "metadata": {},
   "outputs": [
    {
     "data": {
      "text/plain": [
       "0.049166026744264284"
      ]
     },
     "execution_count": 17,
     "metadata": {},
     "output_type": "execute_result"
    }
   ],
   "source": [
    "# compute t score\n",
    "t_score = (sample_mean - pop_mean)/(std/(n**.5))\n",
    "t_score"
   ]
  },
  {
   "cell_type": "code",
   "execution_count": 18,
   "id": "1d712bd7",
   "metadata": {},
   "outputs": [],
   "source": [
    "#H1>4 (means right tail)"
   ]
  },
  {
   "cell_type": "code",
   "execution_count": 19,
   "id": "c33c083e",
   "metadata": {},
   "outputs": [
    {
     "name": "stdout",
     "output_type": "stream",
     "text": [
      "1.729132811521367\n"
     ]
    }
   ],
   "source": [
    "# One Tail - Calculating the t-critical value\n",
    "\n",
    "from scipy.stats import t\n",
    "alpha = 1 - 0.95\n",
    "\n",
    "t_critical = t.ppf(1-alpha, df = 19)\n",
    "\n",
    "print(t_critical)"
   ]
  },
  {
   "cell_type": "code",
   "execution_count": 20,
   "id": "caf56c47",
   "metadata": {},
   "outputs": [],
   "source": [
    "#n = 20\n",
    "#sample_mean \n",
    "#mean = 465.3\n",
    "#pop_mean = 4"
   ]
  },
  {
   "cell_type": "code",
   "execution_count": 21,
   "id": "76ce5e11",
   "metadata": {},
   "outputs": [
    {
     "data": {
      "text/plain": [
       "0.8137703743822469"
      ]
     },
     "execution_count": 21,
     "metadata": {},
     "output_type": "execute_result"
    }
   ],
   "source": [
    "std = np.std(L1)\n",
    "std"
   ]
  },
  {
   "cell_type": "code",
   "execution_count": 22,
   "id": "48ed64a7",
   "metadata": {},
   "outputs": [
    {
     "data": {
      "text/plain": [
       "Text(4.266666666666667, 0.1, 'x_bar')"
      ]
     },
     "execution_count": 22,
     "metadata": {},
     "output_type": "execute_result"
    },
    {
     "data": {
      "image/png": "[encoded data removed]",
      "text/plain": [
       "<Figure size 432x288 with 1 Axes>"
      ]
     },
     "metadata": {
      "needs_background": "light"
     },
     "output_type": "display_data"
    }
   ],
   "source": [
    "# Ploting the sampling distribution with rejection regions\n",
    "\n",
    " #Ploting the sampling distribution with rejection regions\n",
    "\n",
    "# Defining the x minimum and x maximum\n",
    "x_min = 3.5\n",
    "x_max = 4.5\n",
    "\n",
    "\n",
    "# Defining the sampling distribution mean and sampling distribution std\n",
    "mean = pop_mean\n",
    "std = std / (n**0.5)\n",
    "\n",
    "\n",
    "# Ploting the graph and setting the x limits\n",
    "x = np.linspace(x_min, x_max, 100)\n",
    "y = norm.pdf(x, mean, std)\n",
    "plt.xlim(x_min, x_max)\n",
    "plt.plot(x, y)\n",
    "\n",
    "\n",
    "# Computing the right critical value (Right tailed Test)\n",
    "t_critical_right = pop_mean + (t_critical * std)\n",
    "\n",
    "\n",
    "# Shading the right rejection region\n",
    "x1 = np.linspace(t_critical_right, x_max, 100)\n",
    "y1 = norm.pdf(x1, mean, std)\n",
    "plt.fill_between(x1, y1, color='orange')\n",
    "\n",
    "\n",
    "# Ploting the sample mean and concluding the results \n",
    "plt.scatter(sample_mean, 0)\n",
    "plt.annotate(\"x_bar\", (sample_mean, 0.1))\n",
    "\n",
    "# In this case sample mean falls in the rejection region\n",
    "# i.e. Reject the Null Hypothesis"
   ]
  },
  {
   "cell_type": "code",
   "execution_count": 23,
   "id": "b3a9a2a3",
   "metadata": {},
   "outputs": [
    {
     "name": "stdout",
     "output_type": "stream",
     "text": [
      "Fail to reject Null Hypothesis\n"
     ]
    }
   ],
   "source": [
    "# Conclusion using t test\n",
    "\n",
    "if(t_score > t_critical):\n",
    "    print(\"Reject Null Hypothesis\")\n",
    "else:\n",
    "    print(\"Fail to reject Null Hypothesis\")"
   ]
  },
  {
   "cell_type": "code",
   "execution_count": 24,
   "id": "a093014d",
   "metadata": {},
   "outputs": [
    {
     "name": "stdout",
     "output_type": "stream",
     "text": [
      "p_value =  0.4803934926195266\n",
      "Fail to reject Null Hypothesis\n"
     ]
    }
   ],
   "source": [
    "# Conclusion using p test\n",
    "\n",
    "p_value = 1.0 - norm.cdf(np.abs(t_score))\n",
    "\n",
    "print(\"p_value = \", p_value)\n",
    "\n",
    "if(p_value < alpha):\n",
    "    print(\"Reject Null Hypothesis\")\n",
    "else:\n",
    "    print(\"Fail to reject Null Hypothesis\")"
   ]
  },
  {
   "cell_type": "markdown",
   "id": "27976c48",
   "metadata": {},
   "source": [
    "Q-3: TATA has developed a better fuel management system for the SUV segment. They claim that with this system, on average the SUV's mileage is at least 15 km/litre?"
   ]
  },
  {
   "cell_type": "markdown",
   "id": "ff35f9cf",
   "metadata": {},
   "source": [
    "Alternate Hypothesis (Bold Claim):$$ H_1>15 km/litre $$  \n",
    "Null Hypothesis (Status Quo):$$ H_0 \\leq 4 $$"
   ]
  },
  {
   "cell_type": "code",
   "execution_count": 25,
   "id": "9482a42a",
   "metadata": {},
   "outputs": [],
   "source": [
    "#Note : it is atleast 15 km/litre so our bold claim have to be H1 >= 15km/litre,but we do not use (=) in H1\n",
    "#so we use H0 <= 15/Litre"
   ]
  },
  {
   "cell_type": "code",
   "execution_count": 26,
   "id": "9afc9357",
   "metadata": {},
   "outputs": [],
   "source": [
    "#As H1 is have greater than sign, so it is right tail"
   ]
  },
  {
   "cell_type": "code",
   "execution_count": 27,
   "id": "687eb718",
   "metadata": {},
   "outputs": [],
   "source": [
    "L2 = [14.08, 14.13, 15.65, 13.78, 16.26, 14.97, 15.36, 15.81, 14.53, 16.79, 15.78, 16.98, 13.23, 15.43, 15.46, 13.88, 14.31, 14.41, 15.76, 15.38]\n",
    "n = 10\n",
    "pop_mean = 15"
   ]
  },
  {
   "cell_type": "code",
   "execution_count": 28,
   "id": "cb1b1c5f",
   "metadata": {},
   "outputs": [
    {
     "data": {
      "text/plain": [
       "15.099"
      ]
     },
     "execution_count": 28,
     "metadata": {},
     "output_type": "execute_result"
    }
   ],
   "source": [
    "#compute mean\n",
    "sample_mean = np.mean(L2)\n",
    "sample_mean"
   ]
  },
  {
   "cell_type": "code",
   "execution_count": 29,
   "id": "030ffa62",
   "metadata": {},
   "outputs": [
    {
     "data": {
      "text/plain": [
       "0.9994043225842081"
      ]
     },
     "execution_count": 29,
     "metadata": {},
     "output_type": "execute_result"
    }
   ],
   "source": [
    "std = np.std(L2)\n",
    "std"
   ]
  },
  {
   "cell_type": "code",
   "execution_count": 30,
   "id": "b024a9bb",
   "metadata": {},
   "outputs": [
    {
     "name": "stdout",
     "output_type": "stream",
     "text": [
      "1.6448536269514722\n"
     ]
    }
   ],
   "source": [
    "# One Tail\n",
    "\n",
    "confidence_level = 0.95\n",
    "\n",
    "alpha = 1 - confidence_level\n",
    "\n",
    "t_critical = norm.ppf(1 - alpha)\n",
    "\n",
    "print(t_critical)"
   ]
  },
  {
   "cell_type": "code",
   "execution_count": 31,
   "id": "84a382bf",
   "metadata": {},
   "outputs": [
    {
     "data": {
      "text/plain": [
       "0.31325208554948175"
      ]
     },
     "execution_count": 31,
     "metadata": {},
     "output_type": "execute_result"
    }
   ],
   "source": [
    "#calculating t-score\n",
    "t_score = (sample_mean - pop_mean)/(std/(n**.5))\n",
    "t_score"
   ]
  },
  {
   "cell_type": "code",
   "execution_count": 32,
   "id": "fca5b551",
   "metadata": {},
   "outputs": [
    {
     "data": {
      "text/plain": [
       "Text(15.099, 0.1, 'x_bar')"
      ]
     },
     "execution_count": 32,
     "metadata": {},
     "output_type": "execute_result"
    },
    {
     "data": {
      "image/png": "[encoded data removed]",
      "text/plain": [
       "<Figure size 432x288 with 1 Axes>"
      ]
     },
     "metadata": {
      "needs_background": "light"
     },
     "output_type": "display_data"
    }
   ],
   "source": [
    "x_min = 13\n",
    "x_max = 17\n",
    "\n",
    "mean = pop_mean\n",
    "std = std / (n**0.5)\n",
    "\n",
    "x = np.linspace(x_min, x_max, 100)\n",
    "y = norm.pdf(x, mean, std)\n",
    "\n",
    "plt.xlim(x_min, x_max)\n",
    "# plt.ylim(0, 0.03)\n",
    "\n",
    "plt.plot(x, y)\n",
    "\n",
    "t_critical_right = pop_mean + (t_critical * std)\n",
    "\n",
    "x1 = np.linspace(t_critical_right, x_max, 100)\n",
    "y1 = norm.pdf(x1, mean, std)\n",
    "plt.fill_between(x1, y1, color='orange')\n",
    "\n",
    "plt.scatter(sample_mean, 0)\n",
    "plt.annotate(\"x_bar\", (sample_mean, 0.1))\n",
    "\n",
    "# In this case sample mean falls in the acceptance region\n",
    "# i.e. Fail to Reject the Null Hypothesis"
   ]
  },
  {
   "cell_type": "code",
   "execution_count": 33,
   "id": "de5590df",
   "metadata": {},
   "outputs": [
    {
     "name": "stdout",
     "output_type": "stream",
     "text": [
      "Fail to reject Null Hypothesis\n"
     ]
    }
   ],
   "source": [
    "# Conclusion using z test\n",
    "\n",
    "if(t_score > t_critical):\n",
    "    print(\"Reject Null Hypothesis\")\n",
    "else:\n",
    "    print(\"Fail to reject Null Hypothesis\")"
   ]
  },
  {
   "cell_type": "code",
   "execution_count": 34,
   "id": "c4870585",
   "metadata": {},
   "outputs": [
    {
     "name": "stdout",
     "output_type": "stream",
     "text": [
      "p_value =  0.3770445748137242\n",
      "Fail to reject Null Hypothesis\n"
     ]
    }
   ],
   "source": [
    "# Conclusion using p test\n",
    "\n",
    "p_value = 1.0 - norm.cdf(np.abs(t_score))\n",
    "\n",
    "print(\"p_value = \", p_value)\n",
    "\n",
    "if(p_value < alpha):\n",
    "    print(\"Reject Null Hypothesis\")\n",
    "else:\n",
    "    print(\"Fail to reject Null Hypothesis\")"
   ]
  },
  {
   "cell_type": "markdown",
   "id": "b4aa1ad3",
   "metadata": {},
   "source": [
    "Q-4: You have developed a new Machine Learning Application and claim that on average it takes less than 100 ms to predict for any future datapoint. How do you convince your client about this claim? "
   ]
  },
  {
   "cell_type": "markdown",
   "id": "cb6f7d65",
   "metadata": {},
   "source": [
    "Alternate Hypothesis (Bold Claim):$$ H_1<100 ms $$  \n",
    "Null Hypothesis (Status Quo):$$ H_0 \\geq 100 ms $$"
   ]
  },
  {
   "cell_type": "code",
   "execution_count": 43,
   "id": "d43782bd",
   "metadata": {},
   "outputs": [],
   "source": [
    "#Hence H1 < 100, it is left tail"
   ]
  },
  {
   "cell_type": "code",
   "execution_count": 36,
   "id": "0a19d57b",
   "metadata": {},
   "outputs": [],
   "source": [
    "#we assume\n",
    "sample_size = 100\n",
    "sample_mean = 97.5\n",
    "pop_mean = 100\n",
    "sample_std = 7"
   ]
  },
  {
   "cell_type": "code",
   "execution_count": 38,
   "id": "75d1b2c1",
   "metadata": {},
   "outputs": [
    {
     "name": "stdout",
     "output_type": "stream",
     "text": [
      "1.6448536269514722\n"
     ]
    }
   ],
   "source": [
    "#One Tail\n",
    "\n",
    "confidence_level = 0.95\n",
    "\n",
    "alpha = 1 - confidence_level\n",
    "\n",
    "t_critical = norm.ppf(1 - alpha)\n",
    "\n",
    "print(t_critical)"
   ]
  },
  {
   "cell_type": "code",
   "execution_count": 39,
   "id": "59b2f662",
   "metadata": {},
   "outputs": [
    {
     "data": {
      "text/plain": [
       "-1.1293848786315641"
      ]
     },
     "execution_count": 39,
     "metadata": {},
     "output_type": "execute_result"
    }
   ],
   "source": [
    "#calculating t-score\n",
    "t_score = (sample_mean - pop_mean)/(sample_std/(n**.5))\n",
    "t_score"
   ]
  },
  {
   "cell_type": "code",
   "execution_count": 42,
   "id": "97b341d4",
   "metadata": {},
   "outputs": [
    {
     "data": {
      "text/plain": [
       "Text(97.5, 0.02, 'x_bar')"
      ]
     },
     "execution_count": 42,
     "metadata": {},
     "output_type": "execute_result"
    },
    {
     "data": {
      "image/png": "[encoded data removed]",
      "text/plain": [
       "<Figure size 432x288 with 1 Axes>"
      ]
     },
     "metadata": {
      "needs_background": "light"
     },
     "output_type": "display_data"
    }
   ],
   "source": [
    "x_min = 95\n",
    "x_max = 105\n",
    "\n",
    "mean = pop_mean\n",
    "std = sample_std / (sample_size**0.5)\n",
    "\n",
    "x = np.linspace(x_min, x_max, 100)\n",
    "y = norm.pdf(x, mean, std)\n",
    "\n",
    "plt.xlim(x_min, x_max)\n",
    "# plt.ylim(0, 0.03)\n",
    "\n",
    "plt.plot(x, y)\n",
    "\n",
    "z_critical_left = pop_mean + (-z_critical * std)\n",
    "\n",
    "x1 = np.linspace(x_min, z_critical_left, 100)\n",
    "y1 = norm.pdf(x1, mean, std)\n",
    "plt.fill_between(x1, y1, color='orange')\n",
    "\n",
    "plt.scatter(sample_mean, 0)\n",
    "plt.annotate(\"x_bar\", (sample_mean, 0.02))\n",
    "\n",
    "# In this case sample mean falls in the rejection region\n",
    "\n",
    "# i.e. Reject Null Hypothesis"
   ]
  },
  {
   "cell_type": "code",
   "execution_count": 47,
   "id": "b7e7bed1",
   "metadata": {},
   "outputs": [
    {
     "name": "stdout",
     "output_type": "stream",
     "text": [
      "Fail to reject Null Hypothesis\n"
     ]
    }
   ],
   "source": [
    "if(t_score < -t_critical):\n",
    "    print(\"Reject Null Hypothesis\")\n",
    "else:\n",
    "    print(\"Fail to reject Null Hypothesis\")"
   ]
  },
  {
   "cell_type": "code",
   "execution_count": 45,
   "id": "e9371d31",
   "metadata": {},
   "outputs": [
    {
     "name": "stdout",
     "output_type": "stream",
     "text": [
      "p_value =  0.12936775446784066\n",
      "Fail to reject Null Hypothesis\n"
     ]
    }
   ],
   "source": [
    "\n",
    "p_value = 1.0 - norm.cdf(np.abs(t_score))\n",
    "\n",
    "print(\"p_value = \", p_value)\n",
    "\n",
    "if(p_value < 0.01):\n",
    "    print(\"Reject Null Hypothesis\")\n",
    "else:\n",
    "    print(\"Fail to reject Null Hypothesis\")"
   ]
  },
  {
   "cell_type": "markdown",
   "id": "12965ce6",
   "metadata": {},
   "source": [
    "$$ End $$"
   ]
  }
 ],
 "metadata": {
  "kernelspec": {
   "display_name": "Python 3",
   "language": "python",
   "name": "python3"
  },
  "language_info": {
   "codemirror_mode": {
    "name": "ipython",
    "version": 3
   },
   "file_extension": ".py",
   "mimetype": "text/x-python",
   "name": "python",
   "nbconvert_exporter": "python",
   "pygments_lexer": "ipython3",
   "version": "3.8.8"
  }
 },
 "nbformat": 4,
 "nbformat_minor": 5
}
