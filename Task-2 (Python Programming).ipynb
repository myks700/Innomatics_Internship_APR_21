{
 "cells": [
  {
   "cell_type": "markdown",
   "metadata": {},
   "source": [
    "**List Comprehensions**\n",
    "\n",
    "**Q1 Let's learn about list comprehensions! You are given three integers x,y and z representing the dimensions of a cuboid along with an integer n. Print a list of all possible coordinates given by `(i,j,k)` on a 3D grid where the sum of `i+j+k` is not equal to n. Here, `0<=i<=x; 0<=j<=y; 0<=k<=z`. Please use list comprehensions rather than multiple loops, as a learning exercise.**"
   ]
  },
  {
   "cell_type": "code",
   "execution_count": 1,
   "metadata": {},
   "outputs": [
    {
     "name": "stdout",
     "output_type": "stream",
     "text": [
      "2\n",
      "2\n",
      "2\n",
      "2\n",
      "[[0, 0, 0], [0, 0, 1], [0, 1, 0], [0, 1, 2], [0, 2, 1], [0, 2, 2], [1, 0, 0], [1, 0, 2], [1, 1, 1], [1, 1, 2], [1, 2, 0], [1, 2, 1], [1, 2, 2], [2, 0, 1], [2, 0, 2], [2, 1, 0], [2, 1, 1], [2, 1, 2], [2, 2, 0], [2, 2, 1], [2, 2, 2]]\n"
     ]
    }
   ],
   "source": [
    "if __name__ == '__main__':\n",
    "    x = int(input())\n",
    "    y = int(input())\n",
    "    z = int(input())\n",
    "    n = int(input())\n",
    "    \n",
    "    l=list()                       # This is using multiple loop not list comprehension method\n",
    "    for i in range (x+1):\n",
    "        for j in range(y+1):\n",
    "            for k in range(z+1):\n",
    "                if (i+j+k!=n):\n",
    "                    l.append([i,j,k])\n",
    "    print(l)                \n",
    "            "
   ]
  },
  {
   "cell_type": "code",
   "execution_count": 6,
   "metadata": {},
   "outputs": [
    {
     "name": "stdout",
     "output_type": "stream",
     "text": [
      "2\n",
      "2\n",
      "2\n",
      "2\n",
      "[[0, 0, 0], [0, 0, 1], [0, 1, 0], [0, 1, 2], [0, 2, 1], [0, 2, 2], [1, 0, 0], [1, 0, 2], [1, 1, 1], [1, 1, 2], [1, 2, 0], [1, 2, 1], [1, 2, 2], [2, 0, 1], [2, 0, 2], [2, 1, 0], [2, 1, 1], [2, 1, 2], [2, 2, 0], [2, 2, 1], [2, 2, 2]]\n"
     ]
    }
   ],
   "source": [
    "if __name__ == '__main__':\n",
    "    x = int(input())\n",
    "    y = int(input())\n",
    "    z = int(input())\n",
    "    n = int(input())\n",
    "    \n",
    "    List = [[i, j, k] for i in range(x + 1) for j in range(y + 1) for k in range(z + 1) if i + j + k != n]\n",
    "print(List)     # List Comprehension method\n",
    "    "
   ]
  },
  {
   "cell_type": "markdown",
   "metadata": {},
   "source": [
    "**Find the Runner-Up Score**\n",
    "\n",
    "**Q2 Given the participants' score sheet for your University Sports Day, you are required to find the runner-up score. You are given n scores. Store them in a list and find the score of the runner-up.**"
   ]
  },
  {
   "cell_type": "code",
   "execution_count": 2,
   "metadata": {},
   "outputs": [
    {
     "name": "stdout",
     "output_type": "stream",
     "text": [
      "5\n",
      "2 3 6 6 5\n",
      "5\n"
     ]
    }
   ],
   "source": [
    "n = int(input())\n",
    "arr = list(map(int, input().split()))\n",
    "print(max([x for x in arr if x != max(arr)]))"
   ]
  },
  {
   "cell_type": "code",
   "execution_count": 3,
   "metadata": {},
   "outputs": [
    {
     "name": "stdout",
     "output_type": "stream",
     "text": [
      "5\n",
      "2 3 6 6 5\n",
      "5\n"
     ]
    }
   ],
   "source": [
    "if __name__ == '__main__':\n",
    "    n = int(input())\n",
    "    arr = list(map(int, input().split()))\n",
    "    first = max(arr)\n",
    "    \n",
    "    print(max(list(filter(lambda a: a != first, arr))))"
   ]
  },
  {
   "cell_type": "code",
   "execution_count": 1,
   "metadata": {},
   "outputs": [
    {
     "name": "stdout",
     "output_type": "stream",
     "text": [
      "5\n",
      "2 3 6 6 5\n",
      "5\n"
     ]
    }
   ],
   "source": [
    "if __name__ == '__main__':\n",
    "    n = int(input())\n",
    "    arr = map(int, input().split())\n",
    "    print(sorted(list(set(arr)))[-2])"
   ]
  },
  {
   "cell_type": "markdown",
   "metadata": {},
   "source": [
    "**Nested List**\n",
    "\n",
    "**Q3 Given the names and grades for each student in a class of N students, store them in a nested list and print the name(s) of any student(s) having the second lowest grade.**"
   ]
  },
  {
   "cell_type": "code",
   "execution_count": 4,
   "metadata": {},
   "outputs": [
    {
     "name": "stdout",
     "output_type": "stream",
     "text": [
      "5\n",
      "harry\n",
      "37.5\n",
      "berry\n",
      "37.5\n",
      "Tina\n",
      "37.2\n",
      "Akriti\n",
      "41\n",
      "Harsh\n",
      "39\n",
      "berry\n",
      "harry\n"
     ]
    }
   ],
   "source": [
    "if __name__ == '__main__':\n",
    "    students = []\n",
    "    scores = []\n",
    "    for _ in range(int(input())):\n",
    "        name = input()\n",
    "        score = float(input())\n",
    "        student = [name, score]\n",
    "        students.append(student)\n",
    "        scores.append(score)\n",
    "    second_min_score = sorted(set(scores))[1]\n",
    "    filtered_student_names = sorted([student[0] for student in students if student[1] == second_min_score])\n",
    "    print(\"\\n\".join(filtered_student_names))"
   ]
  },
  {
   "cell_type": "markdown",
   "metadata": {},
   "source": [
    "**Percentage**\n",
    "\n",
    "**Q4 The provided code stub will read in a dictionary containing key/value pairs of name:[marks] for a list of students. Print the average of the marks array for the student name provided, showing 2 places after the decimal.**"
   ]
  },
  {
   "cell_type": "code",
   "execution_count": 8,
   "metadata": {},
   "outputs": [
    {
     "name": "stdout",
     "output_type": "stream",
     "text": [
      "3\n",
      "Krishna 67 68 69\n",
      "Arjun 70 98 63\n",
      "Malika 52 56 60\n",
      "Arjun\n",
      "77.00\n"
     ]
    }
   ],
   "source": [
    "if __name__ == '__main__':\n",
    "    n = int(input())\n",
    "    student_marks = {}\n",
    "    for _ in range(n):\n",
    "        name, *line = input().split()\n",
    "        scores = list(map(float, line))\n",
    "        student_marks[name] = scores\n",
    "    query_name = input()\n",
    "    res = sum(student_marks[query_name])/len(student_marks[name])\n",
    "    print(\"{:.2f}\".format(res))"
   ]
  },
  {
   "cell_type": "markdown",
   "metadata": {},
   "source": [
    "**List**\n",
    "\n",
    "**Q5 Consider a list (list = []). You can perform the following commands:**\n",
    "1. insert i e: Insert integer e at position i.\n",
    "2. print: Print the list.\n",
    "3. remove e: Delete the first occurrence of integer e.\n",
    "4. append e: Insert integer e at the end of the list.\n",
    "5. sort: Sort the list.\n",
    "6. pop: Pop the last element from the list.\n",
    "7. reverse: Reverse the list.\n",
    "\n",
    "* Initialize your list and read in the value of n followed by n lines of commands where each command will   be of the 7 types listed above. Iterate through each command in order and perform the corresponding operation on your list.\n",
    "\n"
   ]
  },
  {
   "cell_type": "code",
   "execution_count": 9,
   "metadata": {},
   "outputs": [
    {
     "name": "stdout",
     "output_type": "stream",
     "text": [
      "12\n",
      "insert 0 5\n",
      "insert 1 10\n",
      "insert 0 6\n",
      "print\n",
      "[6, 5, 10]\n",
      "remove 6\n",
      "append 9\n",
      "append 1\n",
      "sort\n",
      "print\n",
      "[1, 5, 9, 10]\n",
      "pop\n",
      "reverse\n",
      "print\n",
      "[9, 5, 1]\n"
     ]
    }
   ],
   "source": [
    "if __name__ == '__main__':\n",
    "    N = int(input())\n",
    "    ar = []\n",
    "    for i in range(0, N):\n",
    "        tmp_str = input()\n",
    "        tmp_str_ar = tmp_str.strip().split(\" \")\n",
    "        cmd = tmp_str_ar[0]\n",
    "        if cmd == \"print\":\n",
    "            print(ar)\n",
    "        elif cmd == \"sort\":\n",
    "            ar.sort()\n",
    "        elif cmd == \"reverse\":\n",
    "            ar.reverse()\n",
    "        elif cmd == \"pop\":\n",
    "            ar.pop()\n",
    "        elif cmd == \"count\":\n",
    "            val = int(tmp_str_ar[1])\n",
    "            ar.count(val)\n",
    "        elif cmd == \"index\":\n",
    "            val = int(tmp_str_ar[1])\n",
    "            ar.index(val)\n",
    "        elif cmd == \"remove\":\n",
    "            val = int(tmp_str_ar[1])\n",
    "            ar.remove(val)\n",
    "        elif cmd == \"append\":\n",
    "            val = int(tmp_str_ar[1])\n",
    "            ar.append(val)\n",
    "        elif cmd == \"insert\":\n",
    "            pos = int(tmp_str_ar[1])\n",
    "            val = int(tmp_str_ar[2])\n",
    "            ar.insert(pos, val)"
   ]
  },
  {
   "cell_type": "markdown",
   "metadata": {},
   "source": [
    "**Tuple**\n",
    "\n",
    "**Q6 Given an integer, n, and n space-separated integers as input, create a tuple,t , of those n integers. Then compute and print the result of hash(t) .**\n",
    "\n",
    "* Note: hash() is one of the functions in the __builtins__ module, so it need not be imported."
   ]
  },
  {
   "cell_type": "code",
   "execution_count": 12,
   "metadata": {},
   "outputs": [
    {
     "name": "stdout",
     "output_type": "stream",
     "text": [
      "2\n",
      "1\n",
      "-6644214454873602895\n"
     ]
    }
   ],
   "source": [
    "if __name__ == '__main__':\n",
    "    n = int(input())\n",
    "    integer_list = map(int, input().split())\n",
    "    t = tuple(integer_list)\n",
    "    print(hash(t))"
   ]
  },
  {
   "cell_type": "markdown",
   "metadata": {},
   "source": [
    "**No Idea**\n",
    "\n",
    "**Q7 There is an array of n integers. There are also 2 disjoint sets, A and B, each containing  integers. You like all the integers in set A and dislike all the integers in set B. Your initial happiness is 0. For each i integer in the array, if i ε A, you add 1 to your happiness. If i ε B, you add -1 to your happiness. Otherwise, your happiness does not change. Output your final happiness at the end.**\n",
    "\n",
    "* Note: Since  and  are sets, they have no repeated elements. However, the array might contain duplicate elements."
   ]
  },
  {
   "cell_type": "code",
   "execution_count": 15,
   "metadata": {},
   "outputs": [
    {
     "name": "stdout",
     "output_type": "stream",
     "text": [
      "3 2\n",
      "1 5 3\n",
      "3 1\n",
      "5 7\n",
      "1\n"
     ]
    }
   ],
   "source": [
    "from collections import Counter\n",
    "n, m = map(int,input().split())\n",
    "ar = list(map(int,input().split()))\n",
    "ar_set = set(ar)\n",
    "ar_counter = Counter(ar)\n",
    "set_a = set(map(int,input().split()))\n",
    "set_b = set(map(int,input().split()))\n",
    "intersect_ar_a = list(ar_set&set_a)\n",
    "intersect_ar_b = list(ar_set&set_b)\n",
    "result = 0\n",
    "for element in intersect_ar_a:\n",
    "    result += ar_counter[element]\n",
    "for element in intersect_ar_b:\n",
    "    result -= ar_counter[element]\n",
    "    \n",
    "print(result)"
   ]
  },
  {
   "cell_type": "markdown",
   "metadata": {},
   "source": [
    "**Symmetric Difference**\n",
    "\n",
    "**Q8 Today, we're learning about a new data type: sets.**\n",
    "\n",
    "Concept\n",
    "\n",
    "**If the inputs are given on one line separated by a character (the delimiter), use split() to get the separate values in the form of a list. The delimiter is space (ascii 32) by default. To specify that comma is the delimiter, use string.split(','). For this challenge, and in general on HackerRank, space will be the delimiter.**\n",
    "\n",
    "Usage:\n",
    "\n",
    "*  a = raw_input()\n",
    "* 5 4 3 2\n",
    "*  lis = a.split()\n",
    "*  print (lis)\n",
    "* ['5', '4', '3', '2']\n",
    "\n",
    "**If the list values are all integer types, use the map() method to convert all the strings to integers.**\n",
    "\n",
    "*  newlis = list(map(int, lis))\n",
    "*  print (newlis)\n",
    "* [5, 4, 3, 2]\n",
    "**Sets are an unordered collection of unique values. A single set contains values of any immutable data type.**"
   ]
  },
  {
   "cell_type": "code",
   "execution_count": 17,
   "metadata": {},
   "outputs": [
    {
     "name": "stdout",
     "output_type": "stream",
     "text": [
      "4\n",
      "2 4 5 9\n",
      "4\n",
      "2 4 11 12\n",
      "4\n"
     ]
    }
   ],
   "source": [
    "e = int(input())\n",
    "eng = set(map(int,input().split())) \n",
    "f = int(input())\n",
    "fre = set(map(int,input().split()))\n",
    "print(len(eng ^ fre))"
   ]
  },
  {
   "cell_type": "markdown",
   "metadata": {},
   "source": [
    "**set .add()**\n",
    "\n",
    "**Q9If we want to add a single element to an existing set, we can use the .add() operation.\n",
    "It adds the element to the set and returns 'None'**\n",
    "\n",
    "* Example\n",
    "\n",
    "* s = set('HackerRank')\n",
    "* s.add('H')\n",
    "* print s\n",
    "* set(['a', 'c', 'e', 'H', 'k', 'n', 'r', 'R'])\n",
    "* print s.add('HackerRank')\n",
    "* None\n",
    "* print s\n",
    "* set(['a', 'c', 'e', 'HackerRank', 'H', 'k', 'n', 'r', 'R'])\n",
    "\n",
    "* Task\n",
    "\n",
    "**Apply your knowledge of the .add() operation to help your friend Rupal.**\n",
    "\n",
    "**Rupal has a huge collection of country stamps. She decided to count the total number of distinct country stamps in her collection. She asked for your help. You pick the stamps one by one from a stack of N country stamps.**\n",
    "\n",
    "* Find the total number of distinct country stamps. "
   ]
  },
  {
   "cell_type": "code",
   "execution_count": 18,
   "metadata": {},
   "outputs": [
    {
     "name": "stdout",
     "output_type": "stream",
     "text": [
      "7\n",
      "UK\n",
      "China\n",
      "USA\n",
      "France\n",
      "New Zealand\n",
      "UK\n",
      "France\n",
      "5\n"
     ]
    }
   ],
   "source": [
    "n = int(input())\n",
    "country_set = set()\n",
    "for i in range(n):\n",
    "    country_name = input()\n",
    "    country_set.add(country_name)\n",
    "print(len(country_set))"
   ]
  },
  {
   "cell_type": "markdown",
   "metadata": {},
   "source": [
    "**set .discard(), .remove() & .pop()**\n",
    "\n",
    "` Q10`\n",
    "**.remove(x)**\n",
    "**This operation removes element x from the set.\n",
    "If element x does not exist, it raises a KeyError.\n",
    "The .remove(x) operation returns None.**\n",
    "\n",
    "Example\n",
    "\n",
    "* s = set([1, 2, 3, 4, 5, 6, 7, 8, 9])\n",
    "* s.remove(5)\n",
    "* print s\n",
    "* set([1, 2, 3, 4, 6, 7, 8, 9])\n",
    "* print s.remove(4)\n",
    "* None\n",
    "* print s\n",
    "* set([1, 2, 3, 6, 7, 8, 9])\n",
    "* s.remove(0)\n",
    "* KeyError: 0\n",
    "\n",
    "**.discard(x)**\n",
    "**This operation also removes element x from the set.\n",
    "If element x does not exist, it does not raise a KeyError.\n",
    "The .discard(x) operation returns None.**\n",
    "\n",
    "* Example\n",
    "\n",
    "* s = set([1, 2, 3, 4, 5, 6, 7, 8, 9])\n",
    "*  s.discard(5)\n",
    "* print s\n",
    "* set([1, 2, 3, 4, 6, 7, 8, 9])\n",
    "* print s.discard(4)\n",
    "* None\n",
    "*  print s\n",
    "* set([1, 2, 3, 6, 7, 8, 9])\n",
    "* s.discard(0)\n",
    "*  print s\n",
    "* set([1, 2, 3, 6, 7, 8, 9])\n",
    "\n",
    "**.pop()**\n",
    "**This operation removes and return an arbitrary element from the set.\n",
    "If there are no elements to remove, it raises a KeyError.**\n",
    "\n",
    "* Example\n",
    "\n",
    "* s = set([1])\n",
    "*  print s.pop()\n",
    "* 1\n",
    "* print s\n",
    "* set([])\n",
    "*  print s.pop()\n",
    "**KeyError: pop from an empty set**\n",
    "* Task\n",
    "**You have a non-empty set s, and you have to execute N commands given in N lines.**\n",
    "\n",
    "* The commands will be pop, remove and discard."
   ]
  },
  {
   "cell_type": "code",
   "execution_count": 19,
   "metadata": {},
   "outputs": [
    {
     "name": "stdout",
     "output_type": "stream",
     "text": [
      "9\n",
      "1 2 3 4 5 6 7 8 9\n",
      "10\n",
      "pop\n",
      "remove 9\n",
      "discard 9\n",
      "discard 8\n",
      "remove 7\n",
      "pop\n",
      "discard 6\n",
      "remove 5\n",
      "pop\n",
      "discard 5\n",
      "4\n"
     ]
    }
   ],
   "source": [
    "n = int(input())\n",
    "s = set(map(int, input().split())) \n",
    "n = int(input())\n",
    "for i in range(n):\n",
    "    cmd = list(input().split(' '))\n",
    "    if (len(cmd) == 1):\n",
    "        s.pop()\n",
    "    else:\n",
    "        value = int(cmd[1])\n",
    "        s.discard(value)\n",
    "print(sum(s))"
   ]
  },
  {
   "cell_type": "markdown",
   "metadata": {},
   "source": [
    "`Q 11`\n",
    "\n",
    "Image - https://s3.amazonaws.com/hr-challenge-images/9417/1437829708-707212e33e-AuB.png\n",
    "\n",
    ".union()\n",
    "\n",
    "The .union() operator returns the union of a set and the set of elements in an iterable.\n",
    "Sometimes, the | operator is used in place of .union() operator, but it operates only on the set of elements in set.\n",
    "Set is immutable to the .union() operation (or | operation).\n",
    "\n",
    "Example\n",
    "\n",
    "* s = set(\"Hacker\")\n",
    "* print s.union(\"Rank\")\n",
    "* set(['a', 'R', 'c', 'r', 'e', 'H', 'k', 'n'])\n",
    "\n",
    "* print s.union(set(['R', 'a', 'n', 'k']))\n",
    "* set(['a', 'R', 'c', 'r', 'e', 'H', 'k', 'n'])\n",
    "\n",
    "* print s.union(['R', 'a', 'n', 'k'])\n",
    "* set(['a', 'R', 'c', 'r', 'e', 'H', 'k', 'n'])\n",
    "\n",
    "* print s.union(enumerate(['R', 'a', 'n', 'k']))\n",
    "* set(['a', 'c', 'r', 'e', (1, 'a'), (2, 'n'), 'H', 'k', (3, 'k'), (0, 'R')])\n",
    "\n",
    "* print s.union({\"Rank\":1})\n",
    "* set(['a', 'c', 'r', 'e', 'H', 'k', 'Rank'])\n",
    "\n",
    "* s | set(\"Rank\")\n",
    "* set(['a', 'R', 'c', 'r', 'e', 'H', 'k', 'n'])\n",
    "\n",
    "**Task**\n",
    "\n",
    "`The students of District College have subscriptions to English and French newspapers. Some students have subscribed only to English, some have subscribed to only French and some have subscribed to both newspapers.`\n",
    "\n",
    " `You are given two sets of student roll numbers. One set has subscribed to the English newspaper, and the other set is subscribed to the French newspaper. The same student could be in both sets. Your task is to find the total number of students who have subscribed to at least one newspaper.`\n",
    "\n",
    "**Input Format**\n",
    "\n",
    "`The first line contains an integer,n , the number of students who have subscribed to the English newspaper.\n",
    "The second line contains n space separated roll numbers of those students.\n",
    "The third line contains b, the number of students who have subscribed to the French newspaper.\n",
    "The fourth line contains b space separated roll numbers of those students.`"
   ]
  },
  {
   "cell_type": "code",
   "execution_count": 2,
   "metadata": {},
   "outputs": [
    {
     "name": "stdout",
     "output_type": "stream",
     "text": [
      "9\n",
      "1 2 3 4 5 6 7 8 9\n",
      "9\n",
      "10 1 2 3 11 21 55 6 8\n",
      "13\n"
     ]
    }
   ],
   "source": [
    "n = input()\n",
    "s1 = set(map(int, input().split()))\n",
    "b = input()\n",
    "s2 = set(map(int,input().split()))\n",
    "print(len(s1.union(s2)))"
   ]
  },
  {
   "cell_type": "markdown",
   "metadata": {},
   "source": [
    "`Q12`\n",
    "\n",
    "Image - https://s3.amazonaws.com/hr-challenge-images/9419/1437830945-a56a63892c-AB.png\n",
    "\n",
    "**.intersection()**\n",
    "* The .intersection() operator returns the intersection of a set and the set of elements in an iterable.\n",
    "Sometimes, the & operator is used in place of the .intersection() operator, but it only operates on the set of elements in set.\n",
    "The set is immutable to the .intersection() operation (or & operation).\n",
    "\n",
    "* s = set(\"Hacker\")\n",
    "* print s.intersection(\"Rank\")\n",
    "* set(['a', 'k'])\n",
    "\n",
    "* print s.intersection(set(['R', 'a', 'n', 'k']))\n",
    "* set(['a', 'k'])\n",
    "\n",
    "* print s.intersection(['R', 'a', 'n', 'k'])\n",
    "* set(['a', 'k'])\n",
    "\n",
    "* print s.intersection(enumerate(['R', 'a', 'n', 'k']))\n",
    "* set([])\n",
    "\n",
    "* print s.intersection({\"Rank\":1})\n",
    "* set([])\n",
    "\n",
    "* s & set(\"Rank\")\n",
    "* set(['a', 'k'])\n",
    "\n",
    "**Task** \n",
    "\n",
    "`The students of District College have subscriptions to English and French newspapers. Some students have subscribed only to English, some have subscribed only to French, and some have subscribed to both newspapers.`\n",
    "\n",
    "`You are given two sets of student roll numbers. One set has subscribed to the English newspaper, one set has subscribed to the French newspaper. Your task is to find the total number of students who have subscribed to both newspapers.`\n",
    "\n",
    "**Input Format**\n",
    "\n",
    "`The first line contains , the number of students who have subscribed to the English newspaper.\n",
    "The second line contains  space separated roll numbers of those students.\n",
    "The third line contains , the number of students who have subscribed to the French newspaper.\n",
    "The fourth line contains  space separated roll numbers of those students.`\n"
   ]
  },
  {
   "cell_type": "code",
   "execution_count": 3,
   "metadata": {},
   "outputs": [
    {
     "name": "stdout",
     "output_type": "stream",
     "text": [
      "9\n",
      "1 2 3 4 5 6 7 8 9 \n",
      "9\n",
      "10 1 2 3 11 21 55 6 8\n",
      "5\n"
     ]
    }
   ],
   "source": [
    "e = int(input())\n",
    "s1 = set(map(int,input().split()))\n",
    "f = int(input())\n",
    "s2 = set(map(int,input().split()))\n",
    "print(len(s1 & s2))"
   ]
  },
  {
   "cell_type": "markdown",
   "metadata": {},
   "source": [
    "`Q 13`\n",
    "\n",
    "Image - https://s3.amazonaws.com/hr-challenge-images/9420/1437904659-11e4bef847-A-B.png\n",
    "\n",
    "**.difference()**\n",
    "* The tool .difference() returns a set with all the elements from the set that are not in an iterable.\n",
    "  Sometimes the - operator is used in place of the .difference() tool, but it only operates on the set   of elements in set.\n",
    "  Set is immutable to the .difference() operation (or the - operation).\n",
    "\n",
    "**Task**\n",
    "`Students of District College have a subscription to English and French newspapers. Some students have subscribed to only the English newspaper, some have subscribed to only the French newspaper, and some have subscribed to both newspapers.`\n",
    "\n",
    "`You are given two sets of student roll numbers. One set has subscribed to the English newspaper, and one set has subscribed to the French newspaper. Your task is to find the total number of students who have subscribed to only English newspapers.`\n",
    "\n",
    "\n",
    "**Input Format**\n",
    "\n",
    "`The first line contains the number of students who have subscribed to the English newspaper.\n",
    "The second line contains the space separated list of student roll numbers who have subscribed to the English newspaper.\n",
    "The third line contains the number of students who have subscribed to the French newspaper.\n",
    "The fourth line contains the space separated list of student roll numbers who have subscribed to the French newspaper.`\n"
   ]
  },
  {
   "cell_type": "code",
   "execution_count": 4,
   "metadata": {},
   "outputs": [
    {
     "name": "stdout",
     "output_type": "stream",
     "text": [
      "9\n",
      "1 2 3 4 5 6 7 8 9\n",
      "9\n",
      "10 1 2 3 11 21 55 6 8\n",
      "4\n"
     ]
    }
   ],
   "source": [
    "e = int(input())\n",
    "s1 = set(map(int,input().split())) \n",
    "f = int(input())\n",
    "s2 = set(map(int,input().split()))\n",
    "print(len(s1 - s2))"
   ]
  },
  {
   "cell_type": "markdown",
   "metadata": {},
   "source": [
    "`Q 14`\n",
    "\n",
    "Image - https://s3.amazonaws.com/hr-challenge-images/9421/1437912471-534f33cf60-AB.png\n",
    "\n",
    "**.symmetric_difference()**\n",
    "\n",
    "* The .symmetric_difference() operator returns a set with all the elements that are in the set and the   iterable but not both.\n",
    "  Sometimes, a ^ operator is used in place of the .symmetric_difference() tool, but it only operates on   the set of elements in set.\n",
    "  The set is immutable to the .symmetric_difference() operation (or ^ operation).\n",
    "  \n",
    "* s = set(\"Hacker\")\n",
    "* print s.symmetric_difference(\"Rank\")\n",
    "* set(['c', 'e', 'H', 'n', 'R', 'r'])\n",
    "\n",
    "* print s.symmetric_difference(set(['R', 'a', 'n', 'k']))\n",
    "* set(['c', 'e', 'H', 'n', 'R', 'r'])\n",
    "\n",
    "* print s.symmetric_difference(['R', 'a', 'n', 'k'])\n",
    "* set(['c', 'e', 'H', 'n', 'R', 'r'])\n",
    "\n",
    "* print s.symmetric_difference(enumerate(['R', 'a', 'n', 'k']))\n",
    "* set(['a', 'c', 'e', 'H', (0, 'R'), 'r', (2, 'n'), 'k', (1, 'a'), (3, 'k')])\n",
    "\n",
    "* print s.symmetric_difference({\"Rank\":1})\n",
    "* set(['a', 'c', 'e', 'H', 'k', 'Rank', 'r'])\n",
    "\n",
    "* s ^ set(\"Rank\")\n",
    "* set(['c', 'e', 'H', 'n', 'R', 'r'])\n",
    "  \n",
    "  **Task**\n",
    "`Students of District College have subscriptions to English and French newspapers. Some students have subscribed to English only, some have subscribed to French only, and some have subscribed to both newspapers.`\n",
    "\n",
    "`You are given two sets of student roll numbers. One set has subscribed to the English newspaper, and one set has subscribed to the French newspaper. Your task is to find the total number of students who have subscribed to either the English or the French newspaper but not both.`\n",
    "\n",
    "**Input Format**\n",
    "\n",
    "`The first line contains the number of students who have subscribed to the English newspaper.\n",
    "The second line contains the space separated list of student roll numbers who have subscribed to the English newspaper.`\n",
    "`The third line contains the number of students who have subscribed to the French newspaper.\n",
    "The fourth line contains the space separated list of student roll numbers who have subscribed to the French newspaper.`"
   ]
  },
  {
   "cell_type": "code",
   "execution_count": 5,
   "metadata": {},
   "outputs": [
    {
     "name": "stdout",
     "output_type": "stream",
     "text": [
      "9\n",
      "1 2 3 4 5 6 7 8 9\n",
      "9\n",
      "10 1 2 3 11 21 55 6 8\n",
      "8\n"
     ]
    }
   ],
   "source": [
    "e = int(input())\n",
    "s1 = set(map(int,input().split())) \n",
    "f = int(input())\n",
    "s2 = set(map(int,input().split()))\n",
    "print(len(s1 ^ s2))"
   ]
  },
  {
   "cell_type": "markdown",
   "metadata": {},
   "source": [
    "`Q14` \n",
    "\n",
    "**Set Mutation**\n",
    "\n",
    "**We have seen the applications of union, intersection, difference and symmetric difference operations, but these operations do not make any changes or mutations to the set.**\n",
    "\n",
    "* We can use the following operations to create mutations to a set:\n",
    "\n",
    "**.update() or |=**\n",
    "* Update the set by adding elements from an iterable/another set.\n",
    "\n",
    "* H = set(\"Hacker\")\n",
    "* R = set(\"Rank\")\n",
    "* H.update(R)\n",
    "* print H\n",
    "* set(['a', 'c', 'e', 'H', 'k', 'n', 'r', 'R'])\n",
    "* .intersection_update() or &=\n",
    "* Update the set by keeping only the elements found in it and an iterable/another set.\n",
    "\n",
    "* H = set(\"Hacker\")\n",
    "* R = set(\"Rank\")\n",
    "* H.intersection_update(R)\n",
    "* print H\n",
    "* set(['a', 'k'])\n",
    "* .difference_update() or -=\n",
    "* Update the set by removing elements found in an iterable/another set.\n",
    "\n",
    "* H = set(\"Hacker\")\n",
    "* R = set(\"Rank\")\n",
    "* H.difference_update(R)\n",
    "* print H\n",
    "* set(['c', 'e', 'H', 'r'])\n",
    "* .symmetric_difference_update() or ^=\n",
    "* Update the set by only keeping the elements found in either set, but not in both.\n",
    "\n",
    "* H = set(\"Hacker\")\n",
    "* R = set(\"Rank\")\n",
    "* H.symmetric_difference_update(R)\n",
    "* print H\n",
    "* set(['c', 'e', 'H', 'n', 'r', 'R'])\n",
    "\n",
    "**TASK**\n",
    "* You are given a set A and N number of other sets. These N number of sets have to perform some specific mutation operations on set A.\n",
    "\n",
    "* Your task is to execute those operations and print the sum of elements from set A."
   ]
  },
  {
   "cell_type": "code",
   "execution_count": 6,
   "metadata": {},
   "outputs": [
    {
     "name": "stdout",
     "output_type": "stream",
     "text": [
      "16\n",
      "1 2 3 4 5 6 7 8 9 10 11 12 13 14 24 52\n",
      "4\n",
      "intersection_update 10\n",
      "2 3 5 6 8 9 1 4 7 11\n",
      "update 2\n",
      "55 66\n",
      "symmetric_difference_update 5\n",
      "22 7 35 62 58\n",
      "difference_update 7\n",
      "11 22 35 55 58 62 66\n",
      "38\n"
     ]
    }
   ],
   "source": [
    "n = int(input())\n",
    "a = set(map(int,input().split()))\n",
    "N = int(input())\n",
    "for i in range(N):\n",
    "    cmd = input().split()\n",
    "    opt = cmd[0]\n",
    "    s = set(map(int,input().split()))\n",
    "    if (opt == 'update'):\n",
    "        a |= s\n",
    "    elif (opt == 'intersection_update'):\n",
    "        a &= s\n",
    "    elif (opt == 'difference_update'):\n",
    "        a -= s\n",
    "    elif (opt == 'symmetric_difference_update'):\n",
    "        a ^= s\n",
    "print(sum(a))"
   ]
  },
  {
   "cell_type": "markdown",
   "metadata": {},
   "source": [
    "`Q15`\n",
    "\n",
    "**The Captain's Room**\n",
    "\n",
    "\n",
    "* Mr. Anant Asankhya is the manager at the INFINITE hotel. The hotel has an infinite amount of rooms.\n",
    "\n",
    "*One fine day, a finite number of tourists come to stay at the hotel.\n",
    "The tourists consist of:\n",
    "→ A Captain.\n",
    "→ An unknown group of families consisting of K members per group where K ≠ 1.\n",
    "\n",
    "The Captain was given a separate room, and the rest were given one room per group.\n",
    "\n",
    "Mr. Anant has an unordered list of randomly arranged room entries. The list consists of the room numbers for all of the tourists. The room numbers will appear K times per group except for the Captain's room.\n",
    "\n",
    "Mr. Anant needs you to help him find the Captain's room number.\n",
    "The total number of tourists or the total number of groups of families is not known to you.\n",
    "You only know the value of K and the room number list.\n",
    "\n",
    "Input Format\n",
    "\n",
    "The first line consists of an integer, K, the size of each group.\n",
    "The second line contains the unordered elements of the room number list.\n"
   ]
  },
  {
   "cell_type": "code",
   "execution_count": 9,
   "metadata": {},
   "outputs": [
    {
     "name": "stdout",
     "output_type": "stream",
     "text": [
      "5\n",
      "1 2 3 6 5 4 4 2 5 3 6 1 6 5 3 2 4 1 2 5 1 4 3 6 8 4 3 1 5 6 2 \n",
      "8\n"
     ]
    }
   ],
   "source": [
    "k = int(input())\n",
    "room_num_list = list(map(int,input().split()))\n",
    "room_num_set = set(room_num_list)\n",
    "room_num_list_sum = sum(room_num_list)\n",
    "room_num_set_sum = sum(room_num_set) * k\n",
    "diff = room_num_set_sum - room_num_list_sum\n",
    "for i in room_num_set:\n",
    "    if diff == ((k-1)*i):\n",
    "        print(i)\n",
    "        break"
   ]
  },
  {
   "cell_type": "markdown",
   "metadata": {},
   "source": [
    "`Q 16`\n",
    "\n",
    "**Check Subset**\n",
    "\n",
    "* You are given two sets, A and B .\n",
    "* Your job is to find whether set A is a subset of set B.\n",
    "\n",
    "* If set A is subset of set B, print True.\n",
    "* If set A is not a subset of set B, print False.\n",
    "\n",
    "**Input Format**\n",
    "\n",
    "* The first line will contain the number of test cases, T.\n",
    "* The first line of each test case contains the number of elements in set A.\n",
    "* The second line of each test case contains the space separated elements of set A.\n",
    "* The third line of each test case contains the number of elements in set B.\n",
    "* The fourth line of each test case contains the space separated elements of set B.\n",
    "\n"
   ]
  },
  {
   "cell_type": "code",
   "execution_count": 10,
   "metadata": {},
   "outputs": [
    {
     "name": "stdout",
     "output_type": "stream",
     "text": [
      "3\n",
      "5\n",
      "1 2 3 5 6\n",
      "9\n",
      "9 8 5 6 3 2 1 4 7\n",
      "True\n",
      "1\n",
      "2\n",
      "5\n",
      "3 6 5 4 1\n",
      "False\n",
      "7\n",
      "1 2 3 5 6 8 9\n",
      "3\n",
      "9 8 2\n",
      "False\n"
     ]
    }
   ],
   "source": [
    "for i in range(int(input())): #More than 4 lines will result in 0 score. Blank lines won't be counted. \n",
    "    a = int(input()); A = set(input().split()) \n",
    "    b = int(input()); B = set(input().split())\n",
    "    print((A & B) == A)"
   ]
  },
  {
   "cell_type": "markdown",
   "metadata": {},
   "source": [
    "`Q 17`\n",
    "**Check Strict Superset**"
   ]
  },
  {
   "cell_type": "code",
   "execution_count": 11,
   "metadata": {},
   "outputs": [
    {
     "name": "stdout",
     "output_type": "stream",
     "text": [
      "1 2 3 4 5 6 7 8 9 10 11 12 23 45 84 78\n",
      "2\n",
      "1 2 3 4 5\n",
      "100 11 12\n",
      "False\n"
     ]
    }
   ],
   "source": [
    "A  = set(input().split())\n",
    "n = int(input())\n",
    "check = True\n",
    "for i in range(n):\n",
    "    s = set(input().split())\n",
    "    if (s&A != s) or (s == A):\n",
    "        check = False\n",
    "        break\n",
    "print(check)"
   ]
  },
  {
   "cell_type": "code",
   "execution_count": null,
   "metadata": {},
   "outputs": [],
   "source": []
  }
 ],
 "metadata": {
  "kernelspec": {
   "display_name": "Python 3",
   "language": "python",
   "name": "python3"
  },
  "language_info": {
   "codemirror_mode": {
    "name": "ipython",
    "version": 3
   },
   "file_extension": ".py",
   "mimetype": "text/x-python",
   "name": "python",
   "nbconvert_exporter": "python",
   "pygments_lexer": "ipython3",
   "version": "3.8.5"
  }
 },
 "nbformat": 4,
 "nbformat_minor": 4
}
